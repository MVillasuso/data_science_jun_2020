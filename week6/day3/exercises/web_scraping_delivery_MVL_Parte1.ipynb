{
 "metadata": {
  "language_info": {
   "codemirror_mode": {
    "name": "ipython",
    "version": 3
   },
   "file_extension": ".py",
   "mimetype": "text/x-python",
   "name": "python",
   "nbconvert_exporter": "python",
   "pygments_lexer": "ipython3",
   "version": "3.8.3-final"
  },
  "orig_nbformat": 2,
  "kernelspec": {
   "name": "python38364bit61836de9583b4678983c2459e76af05f",
   "display_name": "Python 3.8.3 64-bit"
  }
 },
 "nbformat": 4,
 "nbformat_minor": 2,
 "cells": [
  {
   "cell_type": "markdown",
   "metadata": {},
   "source": [
    "## MONICA VILLASUSO - DELIVERY WEEK 6 - PARTE 1"
   ]
  },
  {
   "cell_type": "markdown",
   "metadata": {},
   "source": [
    "### 1. From HTML\n",
    "\n",
    "*Using only beautiful soap*\n",
    "\n",
    "Save in a dataframe the next information using web scraping. Each row of the dataframe must have in different columns:\n",
    "\n",
    "- The name of the title\n",
    "- The id of the div where is the value scraped. If there is not id, then the value is must be numpy.nan\n",
    "- The name of the tag where is the value scraped.\n",
    "- The next scraped values in different rows: \n",
    "    - The value: \"Este es el segundo párrafo\"  --> Row 1\n",
    "    - The url https://pagina1.xyz/ --> Row 2\n",
    "    - The url https://pagina4.xyz/ --> Row 3\n",
    "    - The url https://pagina5.xyz/ --> Row 4\n",
    "    - The value \"links footer-links\" --> Row 5\n",
    "    - The value \"Este párrafo está en el footer\" --> Row 6"
   ]
  },
  {
   "cell_type": "code",
   "execution_count": 632,
   "metadata": {},
   "outputs": [],
   "source": [
    "html = \"\"\"<html lang=\"es\">\n",
    "<head>\n",
    "    <meta charset=\"UTF-8\">\n",
    "    <title>Página de prueba</title>\n",
    "</head>\n",
    "<body>\n",
    "<div id=\"main\" class=\"full-width\">\n",
    "    <h1>El título de la página</h1>\n",
    "    <p>Este es el primer párrafo</p>\n",
    "    <p>Este es el segundo párrafo</p>\n",
    "    <div id=\"innerDiv\">\n",
    "        <div class=\"links\">\n",
    "            <a href=\"https://pagina1.xyz/\">Enlace 1</a>\n",
    "            <a href=\"https://pagina2.xyz/\">Enlace 2</a>\n",
    "        </div>\n",
    "        <div class=\"right\">\n",
    "            <div class=\"links\">\n",
    "                <a href=\"https://pagina3.xyz/\">Enlace 3</a>\n",
    "                <a href=\"https://pagina4.xyz/\">Enlace 4</a>\n",
    "            </div>\n",
    "        </div>\n",
    "    </div>\n",
    "    <div id=\"footer\">\n",
    "        <!-- El footer -->\n",
    "        <p>Este párrafo está en el footer</p>\n",
    "        <div class=\"links footer-links\">\n",
    "            <a href=\"https://pagina5.xyz/\">Enlace 5</a>\n",
    "        </div>\n",
    "    </div>\n",
    "</div>\n",
    "</body>\n",
    "</html>\"\"\""
   ]
  },
  {
   "cell_type": "code",
   "execution_count": 633,
   "metadata": {},
   "outputs": [],
   "source": [
    "import requests\n",
    "from bs4 import BeautifulSoup\n",
    "import pandas as pd\n",
    "import bs4"
   ]
  },
  {
   "cell_type": "code",
   "execution_count": 634,
   "metadata": {
    "tags": []
   },
   "outputs": [],
   "source": [
    "#print(html)"
   ]
  },
  {
   "cell_type": "code",
   "execution_count": 635,
   "metadata": {},
   "outputs": [],
   "source": [
    "# To show beautiful html\n",
    "def show_html(html_str):\n",
    "    print(BeautifulSoup(str(html_str), 'html.parser').prettify())"
   ]
  },
  {
   "cell_type": "code",
   "execution_count": 636,
   "metadata": {
    "tags": []
   },
   "outputs": [],
   "source": [
    "soup = BeautifulSoup(html, 'html.parser')\n",
    "#show_html(soup.text)"
   ]
  },
  {
   "cell_type": "code",
   "execution_count": 637,
   "metadata": {},
   "outputs": [],
   "source": [
    "# Construye un diccionario con los valores para luego, a partir de allí, construir el Dataframe final (con las columnas title, id,tag y value)\n",
    "title_c = []\n",
    "id_c=[]\n",
    "tag_c=[]\n",
    "value_c = []\n",
    "\n",
    "def agregar(tit, iden, etiq, valor, tit_l, iden_l, tag_l, value_l):\n",
    "    tit_l.append(tit)\n",
    "    iden_l.append(iden)\n",
    "    tag_l.append(etiq)\n",
    "    value_l.append(valor)"
   ]
  },
  {
   "cell_type": "code",
   "execution_count": 638,
   "metadata": {},
   "outputs": [],
   "source": [
    "# Busqueda del título\n",
    "title_v = soup.head.find(\"title\").get_text()"
   ]
  },
  {
   "cell_type": "code",
   "execution_count": 639,
   "metadata": {
    "tags": []
   },
   "outputs": [],
   "source": [
    "# Busqueda de elementos según enunciado\n",
    "tags_l = ['a', 'p']\n",
    "body_l = list(soup.body)\n",
    "\n",
    "for i in range(len(body_l)):\n",
    "    if (isinstance(body_l[i],bs4.element.Tag)) :\n",
    "        bloque =body_l[i]\n",
    "        id_v = bloque[\"id\"]\n",
    "        cla_v = bloque[\"class\"]\n",
    "        for n in bloque:\n",
    "            if isinstance(n, bs4.element.Tag):\n",
    "                if not n.attrs:\n",
    "                    if n.name in tags_l:\n",
    "                        tag_v= n.name\n",
    "                        search_v = n.get_text()\n",
    "                        agregar (title_v, id_v, tag_v, search_v,title_c,id_c,tag_c,value_c)\n",
    "                else:  # el elemento del bloque tiene atributos\n",
    "                    for tt in tags_l:\n",
    "                        tag_v = tt\n",
    "                        subbloque = list(n)\n",
    "                        for elem in subbloque:\n",
    "                            if isinstance(elem,bs4.element.Tag):\n",
    "                                id_v = elem.attrs.get(\"id\")\n",
    "                                if elem.attrs:         \n",
    "                                    if elem.find(tt) not in (-1, None):    # Si consigue el tag \n",
    "                                        if isinstance(elem,bs4.element.Tag):\n",
    "                                            id_v = elem.attrs.get(\"id\")\n",
    "                                            cla_v = elem.attrs.get(\"class\")\n",
    "                                            agregar (title_v,id_v, tag_v,elem.find(tag_v).getText(),title_c,id_c,tag_c,value_c)\n",
    "                                else:\n",
    "                                    if tt == elem.name:\n",
    "                                        cla_v = elem.attrs.get(\"class\")\n",
    "                                        id_v = elem.attrs.get(\"id\")\n",
    "                                        #id_v = elem.id\n",
    "                                        agregar (title_v,id_v, elem.name,elem.getText(),title_c,id_c,tag_c,value_c)\n",
    "                                   \n",
    "\n",
    "#Buscar div\n",
    "tags_div = 'div'\n",
    "div_tag = soup.body.div\n",
    "last_elem = div_tag.find_all(tags_div, class_=\"links footer-links\")[0]\n",
    "elem_id = last_elem.id\n",
    "elem_tag = last_elem.name\n",
    "elem_search = last_elem.attrs[\"class\"]\n",
    "agregar (title_v,elem_id, elem_tag,elem_search,title_c,id_c,tag_c,value_c)"
   ]
  },
  {
   "cell_type": "code",
   "execution_count": 640,
   "metadata": {},
   "outputs": [],
   "source": [
    "# Construccion del Dataframe\n",
    "result_dicc= {'title': title_c, \n",
    "        'id': id_c,\n",
    "        'tag':tag_c,\n",
    "        'value': value_c}\n",
    "result_df = pd.DataFrame(result_dicc)\n",
    "result_df.fillna(value=pd.np.nan, inplace=True)"
   ]
  },
  {
   "cell_type": "code",
   "execution_count": 641,
   "metadata": {},
   "outputs": [
    {
     "output_type": "execute_result",
     "data": {
      "text/plain": "              title    id  tag                           value\n0  Página de prueba  main    p       Este es el primer párrafo\n1  Página de prueba  main    p      Este es el segundo párrafo\n2  Página de prueba   NaN    a                        Enlace 1\n3  Página de prueba   NaN    a                        Enlace 3\n4  Página de prueba   NaN    a                        Enlace 5\n5  Página de prueba   NaN    p  Este párrafo está en el footer\n6  Página de prueba   NaN  div           [links, footer-links]",
      "text/html": "<div>\n<style scoped>\n    .dataframe tbody tr th:only-of-type {\n        vertical-align: middle;\n    }\n\n    .dataframe tbody tr th {\n        vertical-align: top;\n    }\n\n    .dataframe thead th {\n        text-align: right;\n    }\n</style>\n<table border=\"1\" class=\"dataframe\">\n  <thead>\n    <tr style=\"text-align: right;\">\n      <th></th>\n      <th>title</th>\n      <th>id</th>\n      <th>tag</th>\n      <th>value</th>\n    </tr>\n  </thead>\n  <tbody>\n    <tr>\n      <th>0</th>\n      <td>Página de prueba</td>\n      <td>main</td>\n      <td>p</td>\n      <td>Este es el primer párrafo</td>\n    </tr>\n    <tr>\n      <th>1</th>\n      <td>Página de prueba</td>\n      <td>main</td>\n      <td>p</td>\n      <td>Este es el segundo párrafo</td>\n    </tr>\n    <tr>\n      <th>2</th>\n      <td>Página de prueba</td>\n      <td>NaN</td>\n      <td>a</td>\n      <td>Enlace 1</td>\n    </tr>\n    <tr>\n      <th>3</th>\n      <td>Página de prueba</td>\n      <td>NaN</td>\n      <td>a</td>\n      <td>Enlace 3</td>\n    </tr>\n    <tr>\n      <th>4</th>\n      <td>Página de prueba</td>\n      <td>NaN</td>\n      <td>a</td>\n      <td>Enlace 5</td>\n    </tr>\n    <tr>\n      <th>5</th>\n      <td>Página de prueba</td>\n      <td>NaN</td>\n      <td>p</td>\n      <td>Este párrafo está en el footer</td>\n    </tr>\n    <tr>\n      <th>6</th>\n      <td>Página de prueba</td>\n      <td>NaN</td>\n      <td>div</td>\n      <td>[links, footer-links]</td>\n    </tr>\n  </tbody>\n</table>\n</div>"
     },
     "metadata": {},
     "execution_count": 641
    }
   ],
   "source": [
    "# Dataframe Final\n",
    "result_df"
   ]
  }
 ]
}