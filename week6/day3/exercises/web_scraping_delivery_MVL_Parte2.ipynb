{
 "metadata": {
  "language_info": {
   "codemirror_mode": {
    "name": "ipython",
    "version": 3
   },
   "file_extension": ".py",
   "mimetype": "text/x-python",
   "name": "python",
   "nbconvert_exporter": "python",
   "pygments_lexer": "ipython3",
   "version": "3.8.3-final"
  },
  "orig_nbformat": 2,
  "kernelspec": {
   "name": "python38364bit61836de9583b4678983c2459e76af05f",
   "display_name": "Python 3.8.3 64-bit"
  }
 },
 "nbformat": 4,
 "nbformat_minor": 2,
 "cells": [
  {
   "cell_type": "markdown",
   "metadata": {},
   "source": [
    "## MONICA VILLASUSO  - DELIVERY WEEK 6 - PARTE 2"
   ]
  },
  {
   "cell_type": "markdown",
   "metadata": {},
   "source": [
    "### 1. From Amazon\n",
    "\n",
    "*Using  beautiful soap and/or regex*\n",
    "\n",
    "Save in a dataframe the next information using web scraping. Using product pages from Amazon, do the following: \n",
    "\n",
    "- Get the product name from the web and save it in a column called \"item_name\"\n",
    "- Get the price from the web and save it in a column called \"item_price\"\n",
    "\n",
    "While you are doing the exercise, document the steps you are doing. Try to do the program for generic pages. If you cannot do it generic, explain the reasons. \n",
    "\n",
    "-------------------------------\n",
    "\n",
    "**Example:** \n",
    "\n",
    "url = https://www.amazon.es/Tommy-Hilfiger-UM0UM00054-Camiseta-Hombre/dp/B01MYD0T1F/ref=sr_1_1?dchild=1&pf_rd_p=58224bec-cac9-4dd2-a42a-61b1db609c2d&pf_rd_r=VZQ1JTQXFVRZ9E9VSKX4&qid=1595364419&s=apparel&sr=1-1\n",
    "\n",
    "*item_name* --> \"Tommy Hilfiger Logo Camiseta de Cuello Redondo,Perfecta para El Tiempo Libre para Hombre\"\n",
    "\n",
    "*item_price* --> [[18,99 € - 46,59 €]] or one of the options.\n",
    "\n",
    "\n"
   ]
  },
  {
   "cell_type": "code",
   "execution_count": 22,
   "metadata": {},
   "outputs": [],
   "source": [
    "# NOTA:\n",
    "# Este programa no puede ser genérico pues después de cierto número de ejecuciones, Amazon retorna un contenido distinto (por seguridad) que incluye una validación de que se trata de un usuario y no un robot quien realiza las peticiones. \n",
    "# Al retornar el  CAPTCHA (luego de un determinado número de veces que se ejecuta),  el código deja de funcionar (básicamente porque en el objeto a evaluar No está el contenido del producto)."
   ]
  },
  {
   "cell_type": "code",
   "execution_count": 23,
   "metadata": {},
   "outputs": [],
   "source": [
    "# Importar las librerías necesarias\n",
    "import requests\n",
    "from bs4 import BeautifulSoup\n",
    "import pandas as pd\n",
    "import unicodedata\n",
    "import bs4\n"
   ]
  },
  {
   "cell_type": "code",
   "execution_count": 24,
   "metadata": {},
   "outputs": [],
   "source": [
    "# To show beautiful html\n",
    "def show_html(html_str):\n",
    "    print(BeautifulSoup(str(html_str), 'html.parser').prettify())"
   ]
  },
  {
   "cell_type": "code",
   "execution_count": 25,
   "metadata": {},
   "outputs": [],
   "source": [
    "# Asignación de la url a la que haremos web scrapping\n",
    "\n",
    "#url = \"https://www.amazon.es/Tommy-Hilfiger-UM0UM00054-Camiseta-Hombre/dp/B01MYD0T1F/ref=sr_1_1?dchild=1&pf_rd_p=58224bec-cac9-4dd2-a42a-61b1db609c2d&pf_rd_r=VZQ1JTQXFVRZ9E9VSKX4&qid=1595364419&s=apparel&sr=1-1\"\n",
    "\n",
    "#url = \"https://www.amazon.es/Polo-Ralph-Lauren-SS-Knt/dp/B07C7S6QR2/ref=sr_1_3?__mk_es_ES=%C3%85M%C3%85%C5%BD%C3%95%C3%91&crid=1GQ26N4P9UG4V&dchild=1&keywords=polo+ni%C3%B1o+ralph+lauren&qid=1595624238&s=apparel&sprefix=polo+ni%2Capparel%2C160&sr=1-3\"\n",
    "\n",
    "#url= \"https://www.amazon.es/Amlaiworld-Ventilador-el%C3%A9ctrico-silencioso-Escritorio/dp/B0895VGTXM/ref=sr_1_1?__mk_es_ES=%C3%85M%C3%85%C5%BD%C3%95%C3%91&crid=3S4SDGHDKNFK8&dchild=1&keywords=ventiladores+el%C3%A9ctricos&qid=1595624909&s=apparel&sprefix=ventiladores%2Capparel%2C166&sr=1-1\"\n",
    "\n",
    "url = \"https://www.amazon.es/Nerf-Fortnite-Sp-Hasbro-E6717EU4/dp/B07M931WGJ/ref=sr_1_2_sspa?__mk_es_ES=%C3%85M%C3%85%C5%BD%C3%95%C3%91&crid=36FT440HP6UMB&dchild=1&keywords=nerf+pistola&qid=1595625032&rnid=2846221031&s=apparel&sprefix=nerf+pistola%2Capparel%2C167&sr=1-2-spons&psc=1&spLa=ZW5jcnlwdGVkUXVhbGlmaWVyPUEyRTZDSVEzRU8zWjhXJmVuY3J5cHRlZElkPUEwMDk0NzU0MU1UT1ROODdBTEZPUyZlbmNyeXB0ZWRBZElkPUEwOTY2ODkyMUFINlJOOFlZVFYyOCZ3aWRnZXROYW1lPXNwX2F0ZiZhY3Rpb249Y2xpY2tSZWRpcmVjdCZkb05vdExvZ0NsaWNrPXRydWU=\"\n",
    "\n",
    "#url = \"https://www.amazon.es/%C3%9ALTIMA-CRIPTA-novela-Amazon-aventuras-ebook/dp/B07CNMTJ6Z/ref=pd_rhf_se_s_zg_ebk_1_2/259-0254808-6606040?_encoding=UTF8&pd_rd_i=B07CNMTJ6Z&pd_rd_r=14865785-676f-45cf-accf-8f3901666a91&pd_rd_w=hwig5&pd_rd_wg=nImgm&pf_rd_p=8023ccf0-7216-4a50-a06a-e2780b7abd66&pf_rd_r=5V69SFS05MV70PPM9G39&psc=1&refRID=5V69SFS05MV70PPM9G39\""
   ]
  },
  {
   "cell_type": "code",
   "execution_count": 26,
   "metadata": {
    "tags": []
   },
   "outputs": [],
   "source": [
    "# Obtención del contenido de la url y conversión a un objeto Beautiful Soup\n",
    "def get_page_contents(url):\n",
    "    page = requests.get(url, headers={\"Accept-Language\": \"en-US\"})\n",
    "    return BeautifulSoup(page.text, \"html.parser\")\n",
    "soup = get_page_contents(url)\n",
    "#show_html(soup.text)"
   ]
  },
  {
   "cell_type": "code",
   "execution_count": 27,
   "metadata": {},
   "outputs": [],
   "source": [
    "#Nombre del producto\n",
    "#Selecciona el primer tag span dentro del h1\n",
    "i_name = soup.select('h1 span')            #Selecciona el primer tag span dentro del h1"
   ]
  },
  {
   "cell_type": "code",
   "execution_count": 28,
   "metadata": {
    "tags": []
   },
   "outputs": [],
   "source": [
    "# Guarda en la variable item_name el texto (eliminando los espacios en blanco de los extremos)\n",
    "item_name = i_name[0].getText(strip=True)"
   ]
  },
  {
   "cell_type": "code",
   "execution_count": 29,
   "metadata": {},
   "outputs": [],
   "source": [
    "#Precio del producto\n",
    "i_price = soup.select('td span')            #Selecciona el primer tag span dentro del td"
   ]
  },
  {
   "cell_type": "code",
   "execution_count": 30,
   "metadata": {},
   "outputs": [],
   "source": [
    "#Guarda el texto del precio en una variable (eliminado los espacios en blanco de los extremos)\n",
    "item_price = i_price[0].getText(strip=True)\n",
    "#Elimina del precio los caracteres \\xa0 \n",
    "item_price = unicodedata.normalize(\"NFKD\", item_price)"
   ]
  },
  {
   "cell_type": "code",
   "execution_count": 31,
   "metadata": {
    "tags": []
   },
   "outputs": [
    {
     "output_type": "stream",
     "name": "stdout",
     "text": "Item name: Nerf E6717EU4 Fortnite - Sp L, Talla Única  - Item price: 18,44 €\n"
    }
   ],
   "source": [
    "# Muestra por pantalla el nombre y precio del producto\n",
    "print( \"Item name:\" , item_name,  \" - Item price:\", item_price)"
   ]
  },
  {
   "cell_type": "code",
   "execution_count": 32,
   "metadata": {},
   "outputs": [],
   "source": [
    "# Construye un diccionario con los valores y a partir de allí el Dataframe items_df (con las columnas item_name, item_price)\n",
    "items_dic = {'item_name': [item_name], \n",
    "        'item_price': [item_price]}\n",
    "items_df = pd.DataFrame(items_dic)\n"
   ]
  },
  {
   "cell_type": "code",
   "execution_count": null,
   "metadata": {},
   "outputs": [],
   "source": [
    "#Muestra por pantalla el Dataframe creado\n",
    "items_df"
   ]
  }
 ]
}